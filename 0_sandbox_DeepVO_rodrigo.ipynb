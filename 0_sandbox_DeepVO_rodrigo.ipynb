{
 "cells": [
  {
   "cell_type": "code",
   "execution_count": 1,
   "id": "7fa60944-1d5c-4667-a6ab-65d1865beb62",
   "metadata": {
    "tags": []
   },
   "outputs": [],
   "source": [
    "\"\"\" REFERENCES\n",
    "https://github.com/ChiWeiHsiao/DeepVO-pytorch\n",
    "\n",
    "Original pipeline:\n",
    "\n",
    "- Download data\n",
    "- Preprocessing\n",
    "- Load pretrained model\n",
    "- Change hyperparams\n",
    "- Train (run main)\n",
    "- Evaluate (run test\n",
    "- Visualise results\n",
    "\"\"\""
   ]
  },
  {
   "cell_type": "markdown",
   "id": "bff60aa2-d5df-4a8e-b90c-887ab90ef1bc",
   "metadata": {},
   "source": [
    "# Data Download\n",
    "\n",
    "Already downloaded from the AISG-SLA website, located in `data`"
   ]
  },
  {
   "cell_type": "markdown",
   "id": "1201113c-7a08-46f9-ace4-2460999a65c2",
   "metadata": {},
   "source": [
    "# Preprocessing\n",
    "\n"
   ]
  },
  {
   "cell_type": "code",
   "execution_count": 1,
   "id": "0b458d87-4dc9-4832-8894-bebc7d2a4f14",
   "metadata": {},
   "outputs": [
    {
     "name": "stdout",
     "output_type": "stream",
     "text": [
      "Hello World\n"
     ]
    }
   ],
   "source": [
    "print(\"Hello World\")"
   ]
  },
  {
   "cell_type": "code",
   "execution_count": null,
   "id": "98664226-707c-42ba-ae59-1a1367fd4fcf",
   "metadata": {},
   "outputs": [],
   "source": []
  },
  {
   "cell_type": "code",
   "execution_count": null,
   "id": "1f069aeb-b7bb-4985-b8aa-3354cf073b6f",
   "metadata": {},
   "outputs": [],
   "source": []
  },
  {
   "cell_type": "code",
   "execution_count": null,
   "id": "c17bfc2a-1c66-4010-b04c-65b369dde5d1",
   "metadata": {},
   "outputs": [],
   "source": []
  },
  {
   "cell_type": "code",
   "execution_count": null,
   "id": "94315105-91b6-4fee-8d71-db2a49c701b6",
   "metadata": {},
   "outputs": [],
   "source": []
  },
  {
   "cell_type": "code",
   "execution_count": null,
   "id": "a9dcf1f4-32a7-492f-85e4-84c97231d783",
   "metadata": {},
   "outputs": [],
   "source": []
  }
 ],
 "metadata": {
  "kernelspec": {
   "display_name": "Python 3",
   "language": "python",
   "name": "python3"
  },
  "language_info": {
   "codemirror_mode": {
    "name": "ipython",
    "version": 3
   },
   "file_extension": ".py",
   "mimetype": "text/x-python",
   "name": "python",
   "nbconvert_exporter": "python",
   "pygments_lexer": "ipython3",
   "version": "3.10.0"
  }
 },
 "nbformat": 4,
 "nbformat_minor": 5
}
